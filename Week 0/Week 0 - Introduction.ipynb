{
 "cells": [
  {
   "cell_type": "markdown",
   "metadata": {},
   "source": [
    "# Week 0 - Introduction: Fitting a line to data"
   ]
  },
  {
   "cell_type": "markdown",
   "metadata": {},
   "source": [
    "Resources:\n",
    "    \n"
   ]
  },
  {
   "cell_type": "markdown",
   "metadata": {},
   "source": [
    "We are going to start with a simple, straight-forward example often encountered in astronomy: how to fit a line to data. Specifically, we have a set of data $(x, y)$, and we would like to find the best $(m,b)$ such that: \n",
    "\n",
    "$$y = mx+b$$\n",
    "\n",
    "The classical approach to this problem uses a least-squares algorithm, which uses linear algebra. First, we construct our vectors and matrices:\n",
    "\n",
    "$$\n",
    "X = \\begin{bmatrix}\n",
    "b \\\\\n",
    "m\n",
    "\\end{bmatrix}\n",
    "$$\n",
    "\n",
    "$$ Y = \\left[ \n",
    "             \\begin{matrix} \n",
    "                y_1 \\\\\n",
    "                y_2 \\\\\n",
    "                \\vdots \\\\\n",
    "                y_N\n",
    "             \\end{matrix}\n",
    "    \\right] \n",
    "$$\n",
    "\n",
    "$$ A = \n",
    "    \\begin{bmatrix} \n",
    "        1 & x_1 \\\\\n",
    "        1 & x_2 \\\\\n",
    "        \\vdots & \\vdots \\\\\n",
    "        1 & x_N\n",
    "    \\end{bmatrix}\n",
    "$$\n",
    "\n",
    "$$ C = \n",
    "    \\begin{bmatrix} \n",
    "        \\sigma^2_{y_1} & 0 & \\dots & 0 \\\\\n",
    "        0 & \\sigma^2_{y_2} & \\dots & 0 \\\\\n",
    "        \\vdots & \\vdots & \\ddots & \\vdots \\\\\n",
    "        0 & 0 & \\dots & \\sigma^2_{y_N}\n",
    "    \\end{bmatrix}\n",
    "$$"
   ]
  },
  {
   "cell_type": "markdown",
   "metadata": {},
   "source": [
    "Using linear algebra we can construct the matrix formula:\n",
    "\n",
    "$$\n",
    "Y = A X\n",
    "$$\n",
    "\n",
    "Take a second to make sure this makes sense with the definitions of the above vectors and matrices. It should quickly become obvious that there is a problem with the above equation: the problem is over-constrained, and nowhere have we taken into account uncertainties on the measurements. This is where the linear algebra becomes helpful. We can think each row of this matrix equation (data point) as deviating from the linear expectation by some small amount $\\epsilon$:\n",
    "\n",
    "$$\n",
    "\\epsilon = Y - A X\n",
    "$$\n",
    "\n",
    "We want to weight each data point by the inverse of its uncertainty then reduce dimensionality into a scalar quantity. We call this quantity $\\chi^2$:\n",
    "\n",
    "$$\n",
    "\\chi^2 \\equiv \\left[ Y - A X \\right]^T C^{-1} \\left[ Y - A X \\right]\n",
    "$$\n",
    "\n",
    "You may have seen $\\chi^2$ expressed as the following:\n",
    "\n",
    "$$\n",
    "\\chi^2 = \\sum_{i=1}^N \\frac{\\left[ y_i - f(x_i) \\right]^2}{\\sigma^2_{y,i}}\n",
    "$$\n",
    "\n",
    "For diagonal covariance matrices, these two formulations are equivalent. The linear algebra version allows for covariances between the data points."
   ]
  },
  {
   "cell_type": "markdown",
   "metadata": {},
   "source": [
    "### \"...$\\chi^2$ is like a metric distance in data space.\""
   ]
  },
  {
   "cell_type": "markdown",
   "metadata": {},
   "source": [
    "Our goal is to minimize $\\chi^2$. To get this, we first left multiply both sides of our equation $Y = A X$ by $C^{-1}$ (the inverse of the covariance matrix), which serves to weight each individual data point by its uncertainty. If you think about, this makes sense since smaller uncertainties (smaller values of $\\sigma_{y_i}$) should be weighted stronger. Our matrix equation now becomes:\n",
    "\n",
    "$$\n",
    "C^{-1} Y = C^{-1} A X\n",
    "$$\n",
    "\n",
    "We are almost there. If you look at the dimensionality of the matrices on each side, you'll see that each side is equal to a vector of length $N$. To reduce the dimensionality, we now left-multiply each side by $A^T$. You can convince yourself that this reduces each side to a vector of length 2:\n",
    "\n",
    "$$\n",
    "A^T C^{-1} Y = A^T C^{-1} A X\n",
    "$$\n",
    "\n",
    "As a last step, we want to solve for $X$, so we left-multiply each side by $\\left[ A^T C^{-1} A \\right]^{-1}$ obtaining the simple result:\n",
    "\n",
    "$$ X =\n",
    "\\left[ A^T C^{-1} A \\right]^{-1} \\left[ A^T C^{-1} Y \\right]\n",
    "$$\n",
    "\n",
    "It should be clear that, once the matrices $Y$, $A$, and $C$ are defined, this is an extremely easy matrix equation to solve with standard matrix libraries."
   ]
  },
  {
   "cell_type": "markdown",
   "metadata": {},
   "source": [
    "Uncertainties are given by:\n",
    "    \n",
    "\n",
    "$$\n",
    "\\begin{bmatrix}\n",
    "\\sigma_b^2 & \\sigma_{m,b} \\\\\n",
    "\\sigma_{m,b} & \\sigma_m^2\n",
    "\\end{bmatrix} =\n",
    "\\begin{bmatrix}\n",
    "A^T C^{-1} A\n",
    "\\end{bmatrix}^{-1}\n",
    "$$"
   ]
  },
  {
   "cell_type": "markdown",
   "metadata": {},
   "source": [
    "### Let's try this with a simple example"
   ]
  },
  {
   "cell_type": "code",
   "execution_count": 42,
   "metadata": {
    "collapsed": false
   },
   "outputs": [],
   "source": [
    "# Load libraries\n",
    "\n",
    "import numpy as np\n",
    "from numpy.linalg import inv\n",
    "from astropy.table import Table\n",
    "import matplotlib.pyplot as plt\n",
    "\n",
    "%matplotlib inline"
   ]
  },
  {
   "cell_type": "markdown",
   "metadata": {},
   "source": [
    "### Let's take some data from the literature for RR Lyrae stars in M4\n",
    "\n",
    "RR Lyrae stars are variable pulsators that obey a precise period-luminosity relation. As such they are used as a distance indicator. Here we will attempt to determine the distance to the globular cluster M4 using a sample of 37 RR Lyrae stars observed with Spitzer by Neeley et al. (2015): http://cdsads.u-strasbg.fr/abs/2015ApJ...808...11N\n",
    "\n",
    "The FU class of RR Lyrae follow the relation:\n",
    "\n",
    "$$\n",
    "m = m\\ ({\\rm log}\\ P + 0.26) + b\n",
    "$$"
   ]
  },
  {
   "cell_type": "code",
   "execution_count": 148,
   "metadata": {
    "collapsed": false
   },
   "outputs": [
    {
     "name": "stdout",
     "output_type": "stream",
     "text": [
      "['ID', 'RAh', 'RAm', 'RAs', 'DE-', 'DEd', 'DEm', 'DEs', 'Per', 'logP', '[3.6]', 'e_[3.6]', 'f_[3.6]', '[4.5]', 'e_[4.5]', 'f_[4.5]', '3.6amp', 'e_3.6amp', '4.5amp', 'e_4.5amp', 'Mode', 'f_Mode']\n"
     ]
    }
   ],
   "source": [
    "# First we use astropy tables to load the data, which we obtained directly from CDS\n",
    "\n",
    "readme = '../data/Week_0/ReadMe'\n",
    "RR_lyrae_table2 = Table.read('../data/Week_0/table2.dat', readme=readme, format='cds')\n",
    "\n",
    "# Remove Blazhko candidates from RR Lyrae sample \n",
    "# Blazhko = RR_lyrae_table2[np.where(RR_lyrae['f_Mode'] == '*')[0]]\n",
    "# RR_lyrae = RR_lyrae_table2[np.where(RR_lyrae['f_Mode'] != '*')[0]]\n",
    "# We will select just the 'FU' type RR Lyraes\n",
    "RR_lyrae = RR_lyrae_table2[np.where(RR_lyrae_table2['Mode'] == 'RRab')]\n",
    "\n",
    "# Now remove sources V20 and V21 due to blending\n",
    "RR_lyrae = RR_lyrae[np.where(RR_lyrae['ID'] != 'V20')[0]]\n",
    "RR_lyrae = RR_lyrae[np.where(RR_lyrae['ID'] != 'V21')[0]]\n",
    "print RR_lyrae.colnames"
   ]
  },
  {
   "cell_type": "markdown",
   "metadata": {},
   "source": [
    "### Now, let's define our matrices as we did above to calculate the best fit line"
   ]
  },
  {
   "cell_type": "code",
   "execution_count": 189,
   "metadata": {
    "collapsed": false
   },
   "outputs": [],
   "source": [
    "def calc_best_fit(data_x, data_y, data_y_err):\n",
    "    \"\"\" Calculate the best fit line values \"\"\"\n",
    "    \n",
    "    Y = np.matrix(data_y).T                         # The y-values\n",
    "    N = Y.size                                      # The number of observations\n",
    "\n",
    "    A = np.ones((N, 2))                             # Create a 2xN matrix of 1's\n",
    "    A[:,1] = data_x + 0.26                          # Set the second row to the x-values\n",
    "    A = np.matrix(A)                                # Convert numpy array to a numpy matrix\n",
    "\n",
    "    C = np.identity(N) * data_y_err                 # Create the covariance matrix\n",
    "    C = np.matrix(C)                                # Convert numpy array to a numpy matrix\n",
    "\n",
    "    X = inv(A.T * inv(C) * A) * (A.T * inv(C) * Y)  # Our solution vector\n",
    "    \n",
    "    return np.array(X)                              # Convert back from numpy matrix to numpy array\n",
    "\n",
    "\n",
    "def calc_uncertainties(data_x, data_y_err):\n",
    "    \"\"\" Calculate uncertainties on these values \"\"\"\n",
    "    \n",
    "    N = len(data_x)                                 # The number of observations\n",
    "    \n",
    "    A = np.ones((N, 2))                             # Create a 2xN matrix of 1's\n",
    "    A[:,1] = data_x + 0.26                          # Set the second row to the x-values\n",
    "    A = np.matrix(A)\n",
    "    \n",
    "    C = np.identity(N) * data_y_err                 # Create the covariance matrix\n",
    "    C = np.matrix(C)                                # Convert numpy array to a numpy matrix\n",
    "\n",
    "    cov = inv(A.T * inv(C) * A)                     # Calculate the uncertainties\n",
    "\n",
    "    return np.array(cov)"
   ]
  },
  {
   "cell_type": "code",
   "execution_count": 213,
   "metadata": {
    "collapsed": false
   },
   "outputs": [
    {
     "data": {
      "image/png": "[encoded data removed]",
      "text/plain": [
       "<matplotlib.figure.Figure at 0x10ed16750>"
      ]
     },
     "metadata": {},
     "output_type": "display_data"
    }
   ],
   "source": [
    "def plot_line(ax, b, m, mag):\n",
    "    \"\"\" To plot the best fit line \"\"\"\n",
    "    \n",
    "    x = ax.get_xlim()\n",
    "    y = m*x + b\n",
    "    \n",
    "    ax.plot(x, y, color='k')\n",
    "    \n",
    "    # Display the best fit values\n",
    "    ax.text(-0.13, 10.45, mag + '= ' + str(np.around(m[0], decimals=2)) + ' (log P + 0.26) + ' + str(np.around(b[0], decimals=2)))\n",
    "\n",
    "    \n",
    "def plot_lines(ax, b, m, cov, mag):\n",
    "    \"\"\" To plot 50 lines, randomly chosen from the best fit values and their covariances \"\"\"\n",
    "    \n",
    "    # Calculate outputs\n",
    "    mean = np.array([b[0], m[0]])\n",
    "    x_out = np.random.multivariate_normal(mean, cov, size=75)\n",
    "    \n",
    "    x = ax.get_xlim()\n",
    "\n",
    "    # Plot lines\n",
    "    for i in np.arange(75):\n",
    "        \n",
    "        b_tmp, m_tmp = x_out[i]\n",
    "        \n",
    "        y = np.array([m_tmp])*x + np.array([b_tmp])\n",
    "        ax.plot(x, y, color='r', alpha=0.1)\n",
    "\n",
    "\n",
    "\n",
    "    \n",
    "\n",
    "fig, ax = plt.subplots(1, 2, figsize=(8,4))\n",
    "\n",
    "# Axis limits\n",
    "for i in np.arange(2):\n",
    "    ax[i].set_ylim(11.3, 10.35)\n",
    "    ax[i].set_xlim(-0.15, 0.23)\n",
    "    ax[i].set_xticks([-0.1, 0.0, 0.1, 0.2])\n",
    "\n",
    "# Plot 3.6 micron data\n",
    "b, m = calc_best_fit(RR_lyrae['logP'], RR_lyrae['[3.6]'], RR_lyrae['e_[3.6]'])\n",
    "cov = calc_uncertainties(RR_lyrae['logP'], RR_lyrae['e_[3.6]'])\n",
    "plot_lines(ax[0], b, m, cov, r'$m_{[3.6]}$')\n",
    "plot_line(ax[0], b, m, r'$m_{[3.6]}$')\n",
    "\n",
    "# Plot 4.5 micron data\n",
    "b, m = calc_best_fit(RR_lyrae['logP'], RR_lyrae['[4.5]'], RR_lyrae['e_[4.5]'])\n",
    "cov = calc_uncertainties(RR_lyrae['logP'], RR_lyrae['e_[4.5]'])\n",
    "plot_lines(ax[1], b, m, cov, r'$m_{[4.5]}$')\n",
    "plot_line(ax[1], b, m, r'$m_{[4.5]}$')\n",
    "\n",
    "# Plot points and their uncertainties\n",
    "ax[0].errorbar(RR_lyrae['logP']+0.26, RR_lyrae['[3.6]'], yerr=RR_lyrae['e_[3.6]'], fmt='o', marker='.', color='k')\n",
    "ax[1].errorbar(RR_lyrae['logP']+0.26, RR_lyrae['[4.5]'], yerr=RR_lyrae['e_[4.5]'], fmt='o', marker='.', color='k')\n",
    "\n",
    "\n",
    "# Plot labels\n",
    "ax[0].set_xlabel('Log Period (days) + 0.26')\n",
    "ax[1].set_xlabel('Log Period (days) + 0.26')\n",
    "ax[0].set_ylabel('IRAC [3.6]')\n",
    "ax[1].set_ylabel('IRAC [4.5]')\n",
    "\n",
    "\n",
    "\n",
    "\n",
    "plt.tight_layout()\n",
    "plt.show()"
   ]
  },
  {
   "cell_type": "markdown",
   "metadata": {},
   "source": [
    "Now, we will keep the slope we have just derived, but use five Galactic RR Lyrae to calibrate the zero point of the period-luminosity relation. From these, we get the following relations:\n",
    "\n",
    "$$\n",
    "M_{[3.6]} = -2.19\\ {\\rm log}\\ P - 1.176\n",
    "$$\n",
    "\n",
    "$$\n",
    "M_{[4.5]} = -2.12\\ {\\rm log}\\ P - 1.199\n",
    "$$\n",
    "\n",
    "Comparing these relations to our observed relations, we get:\n",
    "\n",
    "$$\n",
    "m_{[3.6]} = -2.19\\ ({\\rm log}\\ P + 0.26) + 10.89\n",
    "$$\n",
    "\n",
    "$$\n",
    "m_{[4.5]} = -2.12\\ ({\\rm log}\\ P + 0.26) + 10.84\n",
    "$$\n",
    "\n",
    "Subtracting the two, we get two measurements for a distance modulus:\n",
    "\n",
    "$$\n",
    "\\mu_{[3.6]} = \\left( m_{[3.6]} - M_{[3.6]} \\right) = 11.497\n",
    "$$\n",
    "\n",
    "$$\n",
    "\\mu_{[4.5]} = \\left( m_{[4.5]} - M_{[4.5]} \\right) = 11.488\n",
    "$$\n",
    "\n",
    "This modulus implies a distance:\n",
    "\n",
    "$$\n",
    "D = 1993\\ {\\rm pc}: \\lambda\\ =\\ 3.6\\ \\mu {\\rm m}\n",
    "$$\n",
    "\n",
    "$$\n",
    "D = 1984\\ {\\rm pc}: \\lambda\\ =\\ 4.5\\ \\mu {\\rm m}\n",
    "$$"
   ]
  },
  {
   "cell_type": "markdown",
   "metadata": {},
   "source": [
    "This method has several benefits:\n",
    "\n",
    "1. Non-parametric method\n",
    "\n",
    "2. Uses standard linear algebra techniques\n",
    "\n",
    "3. Can be abstracted to higher order polynomials\n",
    "\n",
    "\n",
    "\n",
    "But, this is a somewhat specialized situation. The above equation for $X$ has three assumptions built-in:\n",
    "\n",
    "1. Uncertainties are Gaussian\n",
    "\n",
    "2. Uncertainties only on the y-axis\n",
    "\n",
    "3. Can't add lower or upper limits"
   ]
  },
  {
   "cell_type": "code",
   "execution_count": null,
   "metadata": {
    "collapsed": false
   },
   "outputs": [],
   "source": []
  },
  {
   "cell_type": "code",
   "execution_count": null,
   "metadata": {
    "collapsed": true
   },
   "outputs": [],
   "source": []
  }
 ],
 "metadata": {
  "kernelspec": {
   "display_name": "Python 2",
   "language": "python",
   "name": "python2"
  },
  "language_info": {
   "codemirror_mode": {
    "name": "ipython",
    "version": 2
   },
   "file_extension": ".py",
   "mimetype": "text/x-python",
   "name": "python",
   "nbconvert_exporter": "python",
   "pygments_lexer": "ipython2",
   "version": "2.7.10"
  }
 },
 "nbformat": 4,
 "nbformat_minor": 0
}
